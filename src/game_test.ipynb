{
 "cells": [
  {
   "cell_type": "code",
   "execution_count": 15,
   "id": "62ce8627",
   "metadata": {},
   "outputs": [],
   "source": [
    "import random\n",
    "\n",
    "\n",
    "class RockPaperScissors:\n",
    "    def __init__(self):\n",
    "        self.choices = ['rock', 'paper','scissors']\n",
    "    \n",
    "    def get_player_choice(self):\n",
    "        player_choice = input(\"Enter your choice (rock, paper, scissors): \")\n",
    "        if player_choice.lower() in self.choices:\n",
    "            return player_choice.lower()\n",
    "        \n",
    "        print(\"Invalid choice. Please try again.\")\n",
    "        return self.get_player_choice()\n",
    "    \n",
    "    def get_computer_choice(self):\n",
    "        return random.choice(self.choices)\n",
    "\n",
    "    def determine_winner(self, player_choice, computer_choice):\n",
    "        if player_choice == computer_choice:\n",
    "            print(\"It's a tie!\")\n",
    "            return 'It is a tie!'\n",
    "        \n",
    "        if (player_choice == 'rock' and computer_choice =='scissors'\n",
    "            or player_choice == 'paper' and computer_choice == 'rock'\n",
    "            or player_choice =='scissors' and computer_choice == 'paper'):\n",
    "            print(\"You win!\")\n",
    "        else:\n",
    "            print(\"Computer wins!\")\n",
    "\n",
    "    def play(self):\n",
    "        player_choice = self.get_player_choice()\n",
    "        computer_choice = self.get_computer_choice()\n",
    "        print(f\"You chose {player_choice}, computer chose {computer_choice}.\")\n",
    "        winner_msg = self.determine_winner(player_choice, computer_choice)\n",
    "        print(winner_msg)\n",
    "\n"
   ]
  },
  {
   "cell_type": "code",
   "execution_count": 16,
   "id": "18caac8d",
   "metadata": {},
   "outputs": [
    {
     "name": "stdout",
     "output_type": "stream",
     "text": [
      "You chose rock, computer chose rock.\n",
      "It's a tie!\n",
      "It is a tie!\n",
      "You chose paper, computer chose rock.\n",
      "You win!\n",
      "None\n",
      "You chose rock, computer chose scissors.\n",
      "You win!\n",
      "None\n"
     ]
    }
   ],
   "source": [
    "game = RockPaperScissors()\n",
    "\n",
    "while True:\n",
    "    game.play()\n",
    "\n",
    "    continue_game = input(\"Do you want to play again? (enter any key to continue, 'q' to exit): \")\n",
    "    if continue_game.lower() == 'q':\n",
    "        break\n"
   ]
  },
  {
   "cell_type": "code",
   "execution_count": null,
   "id": "02d08018",
   "metadata": {},
   "outputs": [
    {
     "name": "stdout",
     "output_type": "stream",
     "text": [
      "You chose rock, computer chose paper.\n",
      "Computer wins!\n",
      "None\n"
     ]
    }
   ],
   "source": []
  },
  {
   "cell_type": "code",
   "execution_count": null,
   "id": "ecf7e57f",
   "metadata": {},
   "outputs": [],
   "source": []
  },
  {
   "cell_type": "code",
   "execution_count": null,
   "id": "c29eeeef",
   "metadata": {},
   "outputs": [],
   "source": []
  },
  {
   "cell_type": "code",
   "execution_count": null,
   "id": "7c18c818",
   "metadata": {},
   "outputs": [],
   "source": []
  },
  {
   "cell_type": "code",
   "execution_count": null,
   "id": "62b62a29",
   "metadata": {},
   "outputs": [],
   "source": [
    "def get_computer_choice(self):\n",
    "        import random\n",
    "        computer_choice = random.choice(self.choices)\n",
    "        return computer_choice\n",
    "    \n",
    "    def decide_winner(self, player_choice, computer_choice):\n",
    "        if player_choice == computer_choice:\n",
    "            return \"tie\" "
   ]
  },
  {
   "cell_type": "code",
   "execution_count": null,
   "id": "c8c067bf",
   "metadata": {},
   "outputs": [],
   "source": []
  },
  {
   "cell_type": "code",
   "execution_count": null,
   "id": "722b57e5",
   "metadata": {},
   "outputs": [],
   "source": []
  },
  {
   "cell_type": "code",
   "execution_count": null,
   "id": "3a45386e",
   "metadata": {},
   "outputs": [],
   "source": []
  },
  {
   "cell_type": "code",
   "execution_count": null,
   "id": "c41bae64",
   "metadata": {},
   "outputs": [],
   "source": []
  },
  {
   "cell_type": "code",
   "execution_count": null,
   "id": "2cd2cca0",
   "metadata": {},
   "outputs": [],
   "source": []
  },
  {
   "cell_type": "code",
   "execution_count": null,
   "id": "208d4997",
   "metadata": {},
   "outputs": [],
   "source": []
  },
  {
   "cell_type": "code",
   "execution_count": null,
   "id": "080582b8",
   "metadata": {},
   "outputs": [],
   "source": [
    "int "
   ]
  },
  {
   "cell_type": "code",
   "execution_count": null,
   "id": "38cf26ab",
   "metadata": {},
   "outputs": [],
   "source": []
  },
  {
   "cell_type": "code",
   "execution_count": null,
   "id": "a8b5d505",
   "metadata": {},
   "outputs": [],
   "source": []
  },
  {
   "cell_type": "code",
   "execution_count": null,
   "id": "4eb30740",
   "metadata": {},
   "outputs": [],
   "source": []
  },
  {
   "cell_type": "code",
   "execution_count": null,
   "id": "bce1250e",
   "metadata": {},
   "outputs": [],
   "source": []
  },
  {
   "cell_type": "code",
   "execution_count": null,
   "id": "1b659b99",
   "metadata": {},
   "outputs": [],
   "source": []
  },
  {
   "cell_type": "code",
   "execution_count": null,
   "id": "e55e62ce",
   "metadata": {},
   "outputs": [],
   "source": []
  }
 ],
 "metadata": {
  "kernelspec": {
   "display_name": "Python 3",
   "language": "python",
   "name": "python3"
  },
  "language_info": {
   "codemirror_mode": {
    "name": "ipython",
    "version": 3
   },
   "file_extension": ".py",
   "mimetype": "text/x-python",
   "name": "python",
   "nbconvert_exporter": "python",
   "pygments_lexer": "ipython3",
   "version": "3.11.11"
  }
 },
 "nbformat": 4,
 "nbformat_minor": 5
}
